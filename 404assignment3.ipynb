{
  "nbformat": 4,
  "nbformat_minor": 0,
  "metadata": {
    "colab": {
      "provenance": [],
      "collapsed_sections": [],
      "mount_file_id": "15zRHChFJMjMGZH5exgn32Ot8FgJ-stkS",
      "authorship_tag": "ABX9TyOwEgD+H5LjkZAkwgmbfhpO",
      "include_colab_link": true
    },
    "kernelspec": {
      "name": "python3",
      "display_name": "Python 3"
    },
    "language_info": {
      "name": "python"
    }
  },
  "cells": [
    {
      "cell_type": "markdown",
      "metadata": {
        "id": "view-in-github",
        "colab_type": "text"
      },
      "source": [
        "<a href=\"https://colab.research.google.com/github/seanzhu815/404/blob/main/404assignment3.ipynb\" target=\"_parent\"><img src=\"https://colab.research.google.com/assets/colab-badge.svg\" alt=\"Open In Colab\"/></a>"
      ]
    },
    {
      "cell_type": "code",
      "execution_count": 1,
      "metadata": {
        "colab": {
          "base_uri": "https://localhost:8080/",
          "height": 35
        },
        "id": "L5NG1P5qlje7",
        "outputId": "ade79c81-d9e7-4b71-846b-02869fdd5ea7"
      },
      "outputs": [
        {
          "output_type": "execute_result",
          "data": {
            "text/plain": [
              "'\\nRead the data, this hw does not require many structure, everythins is in numpy\\n\\n'"
            ],
            "application/vnd.google.colaboratory.intrinsic+json": {
              "type": "string"
            }
          },
          "metadata": {},
          "execution_count": 1
        }
      ],
      "source": [
        "# -*- coding: utf-8 -*-\n",
        "\"\"\"\n",
        "Created on Mon Nov  9 12:25:14 2020\n",
        "\n",
        "@author: gaojx\n",
        "\"\"\"\n",
        "\"\"\"\n",
        "HW3 Junxiong Gao, import the package\n",
        "\n",
        "\"\"\"\n",
        "import numpy as np\n",
        "import scipy as sp\n",
        "import pandas as pd\n",
        "import matplotlib.pyplot as plt\n",
        "import statsmodels.api as sm\n",
        "\"\"\"\n",
        "Read the data, this hw does not require many structure, everythins is in \\\n",
        "numpy\n",
        "\n",
        "\"\"\"\n"
      ]
    },
    {
      "cell_type": "markdown",
      "source": [
        "# 1&2&3&4"
      ],
      "metadata": {
        "id": "g4Q88KVIteTb"
      }
    },
    {
      "cell_type": "code",
      "source": [
        "data = pd.read_excel('/content/drive/MyDrive/MGTF404/PredictorData2018_GoyalWelch.xlsx')\n",
        "data = data.loc[np.floor(data['yyyymm']/100)>=1926,:]\n",
        "\n",
        "price = np.array(data['Index'])\n",
        "dividend = np.array(data['D12'])\n",
        "earning = np.array(data['E12'])\n",
        "\n",
        "dp = np.log(dividend/price)\n",
        "ep = np.log(earning/price)\n",
        "rf = 12*np.log(np.array(data['Rfree'])+1)\n",
        "retvw = 12*np.log(np.array(data['CRSP_SPvw'])+1)\n",
        "retvwx = 12*np.log(np.array(data['CRSP_SPvwx'])+1)"
      ],
      "metadata": {
        "colab": {
          "base_uri": "https://localhost:8080/"
        },
        "id": "X18mAGCimndc",
        "outputId": "1a489899-5d52-41c5-aaa3-23b7428b2527"
      },
      "execution_count": 2,
      "outputs": [
        {
          "output_type": "stream",
          "name": "stderr",
          "text": [
            "/usr/local/lib/python3.7/dist-packages/openpyxl/worksheet/header_footer.py:48: UserWarning: Cannot parse header or footer so it will be ignored\n",
            "  warn(\"\"\"Cannot parse header or footer so it will be ignored\"\"\")\n"
          ]
        }
      ]
    },
    {
      "cell_type": "code",
      "source": [
        "retvw.mean()"
      ],
      "metadata": {
        "colab": {
          "base_uri": "https://localhost:8080/"
        },
        "id": "ivMcFDuAtS0k",
        "outputId": "8e8da1c2-ff33-4f2a-ad72-ef560f86e1fc"
      },
      "execution_count": 4,
      "outputs": [
        {
          "output_type": "execute_result",
          "data": {
            "text/plain": [
              "0.09376193499004529"
            ]
          },
          "metadata": {},
          "execution_count": 4
        }
      ]
    },
    {
      "cell_type": "code",
      "source": [
        "retvwx.mean()"
      ],
      "metadata": {
        "colab": {
          "base_uri": "https://localhost:8080/"
        },
        "id": "WuY_9G-EtWqI",
        "outputId": "e5e55c36-908f-45b7-8b40-ddeaac9d29fa"
      },
      "execution_count": 5,
      "outputs": [
        {
          "output_type": "execute_result",
          "data": {
            "text/plain": [
              "0.05575018696417264"
            ]
          },
          "metadata": {},
          "execution_count": 5
        }
      ]
    },
    {
      "cell_type": "code",
      "source": [
        "retvw.std()"
      ],
      "metadata": {
        "colab": {
          "base_uri": "https://localhost:8080/"
        },
        "id": "9YzkpYc2tYaq",
        "outputId": "6155fd46-45ab-498e-e1c1-475594ad5a79"
      },
      "execution_count": 6,
      "outputs": [
        {
          "output_type": "execute_result",
          "data": {
            "text/plain": [
              "0.6464539882175661"
            ]
          },
          "metadata": {},
          "execution_count": 6
        }
      ]
    },
    {
      "cell_type": "code",
      "source": [
        "retvwx.std()"
      ],
      "metadata": {
        "colab": {
          "base_uri": "https://localhost:8080/"
        },
        "id": "0c6gBxNvtaHf",
        "outputId": "38402236-0dbc-47fd-819b-cc60f980d069"
      },
      "execution_count": 7,
      "outputs": [
        {
          "output_type": "execute_result",
          "data": {
            "text/plain": [
              "0.6498230895358073"
            ]
          },
          "metadata": {},
          "execution_count": 7
        }
      ]
    },
    {
      "cell_type": "markdown",
      "source": [
        "#5"
      ],
      "metadata": {
        "id": "nDthqHcEtcSV"
      }
    },
    {
      "cell_type": "code",
      "source": [
        "data"
      ],
      "metadata": {
        "colab": {
          "base_uri": "https://localhost:8080/",
          "height": 424
        },
        "id": "FVR0LfcFt4wA",
        "outputId": "0b456dab-aee3-4673-8691-ca5ddf27dfba"
      },
      "execution_count": 9,
      "outputs": [
        {
          "output_type": "execute_result",
          "data": {
            "text/plain": [
              "      yyyymm    Index        D12      E12       b/m     tbl     AAA     BAA  \\\n",
              "660   192601    12.74   0.607500    1.249  0.387671  0.0349  0.0482  0.0609   \n",
              "661   192602    12.18   0.615000    1.248  0.394363  0.0318  0.0477  0.0602   \n",
              "662   192603    11.46   0.622500    1.248  0.494091  0.0314  0.0479  0.0605   \n",
              "663   192604    11.72   0.630000    1.247  0.482917  0.0308  0.0474  0.0598   \n",
              "664   192605    11.81   0.637500    1.246  0.483860  0.0317  0.0471  0.0586   \n",
              "...      ...      ...        ...      ...       ...     ...     ...     ...   \n",
              "1771  201808  2901.52  52.338996  130.390  0.229618  0.0203  0.0388  0.0477   \n",
              "1772  201809  2913.98  52.338996  130.390  0.225335  0.0213  0.0398  0.0488   \n",
              "1773  201810  2711.74  53.748178  132.390  0.237380  0.0225  0.0414  0.0507   \n",
              "1774  201811  2760.17  53.748178  132.390  0.233451  0.0233  0.0422  0.0522   \n",
              "1775  201812  2506.85  53.748178  132.390  0.255578  0.0237  0.0402  0.0513   \n",
              "\n",
              "         lty      ntis     Rfree      infl     ltr   corpr      svar  csp  \\\n",
              "660   0.0374       NaN  0.002908  0.000000  0.0138  0.0072  0.000857  NaN   \n",
              "661   0.0372       NaN  0.002650  0.000000  0.0063  0.0045  0.001099  NaN   \n",
              "662   0.0371       NaN  0.002617 -0.005587  0.0041  0.0084  0.006016  NaN   \n",
              "663   0.0368       NaN  0.002567  0.005618  0.0076  0.0097  0.001466  NaN   \n",
              "664   0.0369       NaN  0.002642 -0.005587  0.0014  0.0044  0.000690  NaN   \n",
              "...      ...       ...       ...       ...     ...     ...       ...  ...   \n",
              "1771  0.0293 -0.021495  0.001692  0.000556  0.0152  0.0058  0.000471  NaN   \n",
              "1772  0.0334 -0.020871  0.001775  0.001162 -0.0518 -0.0120  0.000230  NaN   \n",
              "1773  0.0352 -0.021222  0.001875  0.001767 -0.0204 -0.0323  0.004578  NaN   \n",
              "1774  0.0317 -0.024593  0.001942 -0.003349  0.0505  0.0071  0.002838  NaN   \n",
              "1775  0.0284 -0.019217  0.001975 -0.003194  0.0481  0.0370  0.006793  NaN   \n",
              "\n",
              "      CRSP_SPvw  CRSP_SPvwx  \n",
              "660   -0.001783   -0.003980  \n",
              "661   -0.033296   -0.037876  \n",
              "662   -0.057708   -0.062007  \n",
              "663    0.038522    0.034856  \n",
              "664    0.013623    0.009070  \n",
              "...         ...         ...  \n",
              "1771   0.032938    0.030647  \n",
              "1772   0.005138    0.003758  \n",
              "1773  -0.068409   -0.069492  \n",
              "1774   0.019980    0.017477  \n",
              "1775  -0.090928   -0.092457  \n",
              "\n",
              "[1116 rows x 18 columns]"
            ],
            "text/html": [
              "\n",
              "  <div id=\"df-e5ce041a-b0e0-4526-a496-487e4831064e\">\n",
              "    <div class=\"colab-df-container\">\n",
              "      <div>\n",
              "<style scoped>\n",
              "    .dataframe tbody tr th:only-of-type {\n",
              "        vertical-align: middle;\n",
              "    }\n",
              "\n",
              "    .dataframe tbody tr th {\n",
              "        vertical-align: top;\n",
              "    }\n",
              "\n",
              "    .dataframe thead th {\n",
              "        text-align: right;\n",
              "    }\n",
              "</style>\n",
              "<table border=\"1\" class=\"dataframe\">\n",
              "  <thead>\n",
              "    <tr style=\"text-align: right;\">\n",
              "      <th></th>\n",
              "      <th>yyyymm</th>\n",
              "      <th>Index</th>\n",
              "      <th>D12</th>\n",
              "      <th>E12</th>\n",
              "      <th>b/m</th>\n",
              "      <th>tbl</th>\n",
              "      <th>AAA</th>\n",
              "      <th>BAA</th>\n",
              "      <th>lty</th>\n",
              "      <th>ntis</th>\n",
              "      <th>Rfree</th>\n",
              "      <th>infl</th>\n",
              "      <th>ltr</th>\n",
              "      <th>corpr</th>\n",
              "      <th>svar</th>\n",
              "      <th>csp</th>\n",
              "      <th>CRSP_SPvw</th>\n",
              "      <th>CRSP_SPvwx</th>\n",
              "    </tr>\n",
              "  </thead>\n",
              "  <tbody>\n",
              "    <tr>\n",
              "      <th>660</th>\n",
              "      <td>192601</td>\n",
              "      <td>12.74</td>\n",
              "      <td>0.607500</td>\n",
              "      <td>1.249</td>\n",
              "      <td>0.387671</td>\n",
              "      <td>0.0349</td>\n",
              "      <td>0.0482</td>\n",
              "      <td>0.0609</td>\n",
              "      <td>0.0374</td>\n",
              "      <td>NaN</td>\n",
              "      <td>0.002908</td>\n",
              "      <td>0.000000</td>\n",
              "      <td>0.0138</td>\n",
              "      <td>0.0072</td>\n",
              "      <td>0.000857</td>\n",
              "      <td>NaN</td>\n",
              "      <td>-0.001783</td>\n",
              "      <td>-0.003980</td>\n",
              "    </tr>\n",
              "    <tr>\n",
              "      <th>661</th>\n",
              "      <td>192602</td>\n",
              "      <td>12.18</td>\n",
              "      <td>0.615000</td>\n",
              "      <td>1.248</td>\n",
              "      <td>0.394363</td>\n",
              "      <td>0.0318</td>\n",
              "      <td>0.0477</td>\n",
              "      <td>0.0602</td>\n",
              "      <td>0.0372</td>\n",
              "      <td>NaN</td>\n",
              "      <td>0.002650</td>\n",
              "      <td>0.000000</td>\n",
              "      <td>0.0063</td>\n",
              "      <td>0.0045</td>\n",
              "      <td>0.001099</td>\n",
              "      <td>NaN</td>\n",
              "      <td>-0.033296</td>\n",
              "      <td>-0.037876</td>\n",
              "    </tr>\n",
              "    <tr>\n",
              "      <th>662</th>\n",
              "      <td>192603</td>\n",
              "      <td>11.46</td>\n",
              "      <td>0.622500</td>\n",
              "      <td>1.248</td>\n",
              "      <td>0.494091</td>\n",
              "      <td>0.0314</td>\n",
              "      <td>0.0479</td>\n",
              "      <td>0.0605</td>\n",
              "      <td>0.0371</td>\n",
              "      <td>NaN</td>\n",
              "      <td>0.002617</td>\n",
              "      <td>-0.005587</td>\n",
              "      <td>0.0041</td>\n",
              "      <td>0.0084</td>\n",
              "      <td>0.006016</td>\n",
              "      <td>NaN</td>\n",
              "      <td>-0.057708</td>\n",
              "      <td>-0.062007</td>\n",
              "    </tr>\n",
              "    <tr>\n",
              "      <th>663</th>\n",
              "      <td>192604</td>\n",
              "      <td>11.72</td>\n",
              "      <td>0.630000</td>\n",
              "      <td>1.247</td>\n",
              "      <td>0.482917</td>\n",
              "      <td>0.0308</td>\n",
              "      <td>0.0474</td>\n",
              "      <td>0.0598</td>\n",
              "      <td>0.0368</td>\n",
              "      <td>NaN</td>\n",
              "      <td>0.002567</td>\n",
              "      <td>0.005618</td>\n",
              "      <td>0.0076</td>\n",
              "      <td>0.0097</td>\n",
              "      <td>0.001466</td>\n",
              "      <td>NaN</td>\n",
              "      <td>0.038522</td>\n",
              "      <td>0.034856</td>\n",
              "    </tr>\n",
              "    <tr>\n",
              "      <th>664</th>\n",
              "      <td>192605</td>\n",
              "      <td>11.81</td>\n",
              "      <td>0.637500</td>\n",
              "      <td>1.246</td>\n",
              "      <td>0.483860</td>\n",
              "      <td>0.0317</td>\n",
              "      <td>0.0471</td>\n",
              "      <td>0.0586</td>\n",
              "      <td>0.0369</td>\n",
              "      <td>NaN</td>\n",
              "      <td>0.002642</td>\n",
              "      <td>-0.005587</td>\n",
              "      <td>0.0014</td>\n",
              "      <td>0.0044</td>\n",
              "      <td>0.000690</td>\n",
              "      <td>NaN</td>\n",
              "      <td>0.013623</td>\n",
              "      <td>0.009070</td>\n",
              "    </tr>\n",
              "    <tr>\n",
              "      <th>...</th>\n",
              "      <td>...</td>\n",
              "      <td>...</td>\n",
              "      <td>...</td>\n",
              "      <td>...</td>\n",
              "      <td>...</td>\n",
              "      <td>...</td>\n",
              "      <td>...</td>\n",
              "      <td>...</td>\n",
              "      <td>...</td>\n",
              "      <td>...</td>\n",
              "      <td>...</td>\n",
              "      <td>...</td>\n",
              "      <td>...</td>\n",
              "      <td>...</td>\n",
              "      <td>...</td>\n",
              "      <td>...</td>\n",
              "      <td>...</td>\n",
              "      <td>...</td>\n",
              "    </tr>\n",
              "    <tr>\n",
              "      <th>1771</th>\n",
              "      <td>201808</td>\n",
              "      <td>2901.52</td>\n",
              "      <td>52.338996</td>\n",
              "      <td>130.390</td>\n",
              "      <td>0.229618</td>\n",
              "      <td>0.0203</td>\n",
              "      <td>0.0388</td>\n",
              "      <td>0.0477</td>\n",
              "      <td>0.0293</td>\n",
              "      <td>-0.021495</td>\n",
              "      <td>0.001692</td>\n",
              "      <td>0.000556</td>\n",
              "      <td>0.0152</td>\n",
              "      <td>0.0058</td>\n",
              "      <td>0.000471</td>\n",
              "      <td>NaN</td>\n",
              "      <td>0.032938</td>\n",
              "      <td>0.030647</td>\n",
              "    </tr>\n",
              "    <tr>\n",
              "      <th>1772</th>\n",
              "      <td>201809</td>\n",
              "      <td>2913.98</td>\n",
              "      <td>52.338996</td>\n",
              "      <td>130.390</td>\n",
              "      <td>0.225335</td>\n",
              "      <td>0.0213</td>\n",
              "      <td>0.0398</td>\n",
              "      <td>0.0488</td>\n",
              "      <td>0.0334</td>\n",
              "      <td>-0.020871</td>\n",
              "      <td>0.001775</td>\n",
              "      <td>0.001162</td>\n",
              "      <td>-0.0518</td>\n",
              "      <td>-0.0120</td>\n",
              "      <td>0.000230</td>\n",
              "      <td>NaN</td>\n",
              "      <td>0.005138</td>\n",
              "      <td>0.003758</td>\n",
              "    </tr>\n",
              "    <tr>\n",
              "      <th>1773</th>\n",
              "      <td>201810</td>\n",
              "      <td>2711.74</td>\n",
              "      <td>53.748178</td>\n",
              "      <td>132.390</td>\n",
              "      <td>0.237380</td>\n",
              "      <td>0.0225</td>\n",
              "      <td>0.0414</td>\n",
              "      <td>0.0507</td>\n",
              "      <td>0.0352</td>\n",
              "      <td>-0.021222</td>\n",
              "      <td>0.001875</td>\n",
              "      <td>0.001767</td>\n",
              "      <td>-0.0204</td>\n",
              "      <td>-0.0323</td>\n",
              "      <td>0.004578</td>\n",
              "      <td>NaN</td>\n",
              "      <td>-0.068409</td>\n",
              "      <td>-0.069492</td>\n",
              "    </tr>\n",
              "    <tr>\n",
              "      <th>1774</th>\n",
              "      <td>201811</td>\n",
              "      <td>2760.17</td>\n",
              "      <td>53.748178</td>\n",
              "      <td>132.390</td>\n",
              "      <td>0.233451</td>\n",
              "      <td>0.0233</td>\n",
              "      <td>0.0422</td>\n",
              "      <td>0.0522</td>\n",
              "      <td>0.0317</td>\n",
              "      <td>-0.024593</td>\n",
              "      <td>0.001942</td>\n",
              "      <td>-0.003349</td>\n",
              "      <td>0.0505</td>\n",
              "      <td>0.0071</td>\n",
              "      <td>0.002838</td>\n",
              "      <td>NaN</td>\n",
              "      <td>0.019980</td>\n",
              "      <td>0.017477</td>\n",
              "    </tr>\n",
              "    <tr>\n",
              "      <th>1775</th>\n",
              "      <td>201812</td>\n",
              "      <td>2506.85</td>\n",
              "      <td>53.748178</td>\n",
              "      <td>132.390</td>\n",
              "      <td>0.255578</td>\n",
              "      <td>0.0237</td>\n",
              "      <td>0.0402</td>\n",
              "      <td>0.0513</td>\n",
              "      <td>0.0284</td>\n",
              "      <td>-0.019217</td>\n",
              "      <td>0.001975</td>\n",
              "      <td>-0.003194</td>\n",
              "      <td>0.0481</td>\n",
              "      <td>0.0370</td>\n",
              "      <td>0.006793</td>\n",
              "      <td>NaN</td>\n",
              "      <td>-0.090928</td>\n",
              "      <td>-0.092457</td>\n",
              "    </tr>\n",
              "  </tbody>\n",
              "</table>\n",
              "<p>1116 rows × 18 columns</p>\n",
              "</div>\n",
              "      <button class=\"colab-df-convert\" onclick=\"convertToInteractive('df-e5ce041a-b0e0-4526-a496-487e4831064e')\"\n",
              "              title=\"Convert this dataframe to an interactive table.\"\n",
              "              style=\"display:none;\">\n",
              "        \n",
              "  <svg xmlns=\"http://www.w3.org/2000/svg\" height=\"24px\"viewBox=\"0 0 24 24\"\n",
              "       width=\"24px\">\n",
              "    <path d=\"M0 0h24v24H0V0z\" fill=\"none\"/>\n",
              "    <path d=\"M18.56 5.44l.94 2.06.94-2.06 2.06-.94-2.06-.94-.94-2.06-.94 2.06-2.06.94zm-11 1L8.5 8.5l.94-2.06 2.06-.94-2.06-.94L8.5 2.5l-.94 2.06-2.06.94zm10 10l.94 2.06.94-2.06 2.06-.94-2.06-.94-.94-2.06-.94 2.06-2.06.94z\"/><path d=\"M17.41 7.96l-1.37-1.37c-.4-.4-.92-.59-1.43-.59-.52 0-1.04.2-1.43.59L10.3 9.45l-7.72 7.72c-.78.78-.78 2.05 0 2.83L4 21.41c.39.39.9.59 1.41.59.51 0 1.02-.2 1.41-.59l7.78-7.78 2.81-2.81c.8-.78.8-2.07 0-2.86zM5.41 20L4 18.59l7.72-7.72 1.47 1.35L5.41 20z\"/>\n",
              "  </svg>\n",
              "      </button>\n",
              "      \n",
              "  <style>\n",
              "    .colab-df-container {\n",
              "      display:flex;\n",
              "      flex-wrap:wrap;\n",
              "      gap: 12px;\n",
              "    }\n",
              "\n",
              "    .colab-df-convert {\n",
              "      background-color: #E8F0FE;\n",
              "      border: none;\n",
              "      border-radius: 50%;\n",
              "      cursor: pointer;\n",
              "      display: none;\n",
              "      fill: #1967D2;\n",
              "      height: 32px;\n",
              "      padding: 0 0 0 0;\n",
              "      width: 32px;\n",
              "    }\n",
              "\n",
              "    .colab-df-convert:hover {\n",
              "      background-color: #E2EBFA;\n",
              "      box-shadow: 0px 1px 2px rgba(60, 64, 67, 0.3), 0px 1px 3px 1px rgba(60, 64, 67, 0.15);\n",
              "      fill: #174EA6;\n",
              "    }\n",
              "\n",
              "    [theme=dark] .colab-df-convert {\n",
              "      background-color: #3B4455;\n",
              "      fill: #D2E3FC;\n",
              "    }\n",
              "\n",
              "    [theme=dark] .colab-df-convert:hover {\n",
              "      background-color: #434B5C;\n",
              "      box-shadow: 0px 1px 3px 1px rgba(0, 0, 0, 0.15);\n",
              "      filter: drop-shadow(0px 1px 2px rgba(0, 0, 0, 0.3));\n",
              "      fill: #FFFFFF;\n",
              "    }\n",
              "  </style>\n",
              "\n",
              "      <script>\n",
              "        const buttonEl =\n",
              "          document.querySelector('#df-e5ce041a-b0e0-4526-a496-487e4831064e button.colab-df-convert');\n",
              "        buttonEl.style.display =\n",
              "          google.colab.kernel.accessAllowed ? 'block' : 'none';\n",
              "\n",
              "        async function convertToInteractive(key) {\n",
              "          const element = document.querySelector('#df-e5ce041a-b0e0-4526-a496-487e4831064e');\n",
              "          const dataTable =\n",
              "            await google.colab.kernel.invokeFunction('convertToInteractive',\n",
              "                                                     [key], {});\n",
              "          if (!dataTable) return;\n",
              "\n",
              "          const docLinkHtml = 'Like what you see? Visit the ' +\n",
              "            '<a target=\"_blank\" href=https://colab.research.google.com/notebooks/data_table.ipynb>data table notebook</a>'\n",
              "            + ' to learn more about interactive tables.';\n",
              "          element.innerHTML = '';\n",
              "          dataTable['output_type'] = 'display_data';\n",
              "          await google.colab.output.renderOutput(dataTable, element);\n",
              "          const docLink = document.createElement('div');\n",
              "          docLink.innerHTML = docLinkHtml;\n",
              "          element.appendChild(docLink);\n",
              "        }\n",
              "      </script>\n",
              "    </div>\n",
              "  </div>\n",
              "  "
            ]
          },
          "metadata": {},
          "execution_count": 9
        }
      ]
    },
    {
      "cell_type": "code",
      "source": [
        "predictor = [dp,ep,rf]\n",
        "\"\"\"\n",
        "Property of dp and ep\n",
        "\n",
        "\"\"\"\n",
        "T = np.size(dp,0)-1\n",
        "phi = []\n",
        "R2 = []\n",
        "u = np.zeros((T,len(predictor)))\n",
        "for i in np.arange(len(predictor)):\n",
        "    x = predictor[i]\n",
        "    model = sm.OLS(x[1:],sm.add_constant(x[:-1]))\n",
        "    res = model.fit()\n",
        "    phi = np.hstack((phi,res.params[1]))\n",
        "    R2 = np.hstack((R2,res.rsquared))\n",
        "    u[:,i] = res.resid\n",
        "    \n"
      ],
      "metadata": {
        "id": "MkXDMnA3tRmr"
      },
      "execution_count": 44,
      "outputs": []
    },
    {
      "cell_type": "code",
      "source": [
        "# You are asked to correct the bias itself and also repeat this for the predictive regression.\n",
        "#bias\n",
        "bias=(1+3*phi)/T\n",
        "\n",
        "phi_unbias=phi+bias"
      ],
      "metadata": {
        "id": "Cc2LXAt8vr5d"
      },
      "execution_count": 26,
      "outputs": []
    },
    {
      "cell_type": "code",
      "source": [
        "phi_unbias"
      ],
      "metadata": {
        "colab": {
          "base_uri": "https://localhost:8080/"
        },
        "id": "WQFMXh-L5iOO",
        "outputId": "160460d0-38d4-415e-b294-f2efaeb4ceee"
      },
      "execution_count": 27,
      "outputs": [
        {
          "output_type": "execute_result",
          "data": {
            "text/plain": [
              "array([0.99673152, 0.99048028, 0.99671496])"
            ]
          },
          "metadata": {},
          "execution_count": 27
        }
      ]
    },
    {
      "cell_type": "markdown",
      "source": [
        "# 6"
      ],
      "metadata": {
        "id": "KjXec5bp45MI"
      }
    },
    {
      "cell_type": "code",
      "source": [
        "beta=[]\n",
        "R2_predict=[]\n",
        "e=np.zeros((T,len(predictor)))\n",
        "for i in np.arange(len(predictor)):\n",
        "  x = predictor[i]\n",
        "  model = sm.OLS(retvw[1:],sm.add_constant(x[:-1]))\n",
        "  res=model.fit()\n",
        "  beta = np.hstack((beta,res.params[1]))\n",
        "  R2_predict = np.hstack((R2_predict,res.rsquared))\n",
        "  e[:,i] = res.resid"
      ],
      "metadata": {
        "id": "CGVS2R_yv7Hj"
      },
      "execution_count": 46,
      "outputs": []
    },
    {
      "cell_type": "code",
      "source": [
        "beta"
      ],
      "metadata": {
        "colab": {
          "base_uri": "https://localhost:8080/"
        },
        "id": "mj7j81cN7Sbd",
        "outputId": "d3009a23-36b3-4bd5-b0b2-b6fa1f2861d4"
      },
      "execution_count": 56,
      "outputs": [
        {
          "output_type": "execute_result",
          "data": {
            "text/plain": [
              "array([ 0.0602789 ,  0.11587401, -0.0234477 ])"
            ]
          },
          "metadata": {},
          "execution_count": 56
        }
      ]
    },
    {
      "cell_type": "code",
      "source": [
        "#bias\n",
        "covar=[]\n",
        "for i in np.arange(len(predictor)):\n",
        "  a=np.cov(u[:,i],e[:,i])\n",
        "  covar=np.hstack((covar,a[0,1]))"
      ],
      "metadata": {
        "id": "S1D4Wzso6DJD"
      },
      "execution_count": 48,
      "outputs": []
    },
    {
      "cell_type": "code",
      "source": [
        "bias_predict=bias*covar/np.var(u,0)"
      ],
      "metadata": {
        "id": "q2LcajbW6lBL"
      },
      "execution_count": 49,
      "outputs": []
    },
    {
      "cell_type": "code",
      "source": [
        "beta_unbias=beta-bias_predict"
      ],
      "metadata": {
        "id": "fyQ6cIw87INy"
      },
      "execution_count": 51,
      "outputs": []
    },
    {
      "cell_type": "code",
      "source": [
        "beta_unbias"
      ],
      "metadata": {
        "colab": {
          "base_uri": "https://localhost:8080/"
        },
        "id": "gqK7bXzh7n7x",
        "outputId": "e5d2141f-efae-4b07-8953-9460baa5ac67"
      },
      "execution_count": 52,
      "outputs": [
        {
          "output_type": "execute_result",
          "data": {
            "text/plain": [
              "array([0.1013714 , 0.14237324, 0.01644003])"
            ]
          },
          "metadata": {},
          "execution_count": 52
        }
      ]
    }
  ]
}