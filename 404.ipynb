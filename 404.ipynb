{
  "cells": [
    {
      "cell_type": "markdown",
      "metadata": {
        "id": "view-in-github",
        "colab_type": "text"
      },
      "source": [
        "<a href=\"https://colab.research.google.com/github/seanzhu815/404/blob/main/404.ipynb\" target=\"_parent\"><img src=\"https://colab.research.google.com/assets/colab-badge.svg\" alt=\"Open In Colab\"/></a>"
      ]
    },
    {
      "cell_type": "code",
      "source": [
        "import numpy as np\n",
        "import scipy as sp\n",
        "import pandas as pd\n",
        "import matplotlib.pyplot as plt\n",
        "import statsmodels.api as sm\n",
        "\"\"\"\n",
        "read the data first, the format is easy, but should work with\n",
        "the dataframe instead of array.\n",
        "\n",
        "\"\"\"\n",
        "\n",
        "data = pd.read_csv('Portfolios_Formed_on_Size_daily.txt',delim_whitespace = 1)\n",
        "\n",
        "\"\"\"\n",
        "Mean and Vol is straight forward, you can use np.mean or the dataframe's own\n",
        "\n",
        "attribute .mean()\n",
        "\n",
        "\"\"\"\n",
        "\"\"\"\n",
        "Question 1a\n",
        "\n",
        "\"\"\"\n",
        "mean_ret = np.mean(data.iloc[:,3:],0)\n",
        "std_ret = np.std(data.iloc[:,3:],0)\n",
        "\n",
        "\n",
        "\n",
        "\"\"\"\n",
        "\n",
        "\n",
        "\"\"\"\n",
        "\n",
        "\n",
        "\n",
        "\n",
        "\n",
        "\n",
        "\n",
        "    \n",
        "\"\"\"\n",
        "Question3\n",
        "\n",
        "\"\"\"\n",
        "retvw = data.loc[:,'vwretd']\n",
        "\n",
        "for i in range(4,13):\n",
        "    reti = data.iloc[:,i]\n",
        "    model = sm.OLS(retvw[1:],sm.add_constant(np.array(reti[:-1])))\n",
        "    res1 = model.fit()\n",
        "    print(res1.summary())"
      ],
      "metadata": {
        "id": "Ohx1aVC3ImQ8"
      },
      "id": "Ohx1aVC3ImQ8",
      "execution_count": null,
      "outputs": []
    },
    {
      "cell_type": "code",
      "source": [
        "Question 1b, how you scale the daily data to monthly and annual depends on the\n",
        "\n",
        "business day in each interval\n",
        "\n",
        "month_mean = 22*mean_ret\n",
        "month_std = np.sqrt(22)*std_ret\n",
        "\n",
        "annual_mean = 252*mean_ret\n",
        "annual_std = np.sqrt(252)*std_ret"
      ],
      "metadata": {
        "id": "La3ehptrI-OW"
      },
      "id": "La3ehptrI-OW",
      "execution_count": null,
      "outputs": []
    },
    {
      "cell_type": "code",
      "source": [
        "#Question 1c\n",
        "\n",
        "\n",
        "\n",
        "\n",
        "for i in range(3,13):\n",
        "    model = sm.OLS(data.iloc[:,i],np.ones(len(data.index)))\n",
        "    res = model.fit()\n",
        "    print(res.summary())"
      ],
      "metadata": {
        "id": "KPzIF2LRJBIl"
      },
      "id": "KPzIF2LRJBIl",
      "execution_count": null,
      "outputs": []
    },
    {
      "cell_type": "code",
      "source": [
        "Question 1d\n",
        "\n",
        "\n",
        "\n",
        "data_pre = data.loc[data['Year']<=1945,:]\n",
        "data_post = data.loc[data['Year']>1945,:]\n",
        "\n",
        "print(np.std(data_pre))\n",
        "print(np.std(data_post))\n",
        "\n",
        "t,pval = sp.stats.ttest_ind(data_pre.iloc[:,i],data_post.iloc[:,i],equal_var = False)\n"
      ],
      "metadata": {
        "id": "x7AyySpXJIfo"
      },
      "id": "x7AyySpXJIfo",
      "execution_count": null,
      "outputs": []
    },
    {
      "cell_type": "markdown",
      "source": [
        "As you can see in the outcome, we hold the null hypothesis that the pre-1945 and post-1945 means are equal to each other.\n",
        "\n",
        "And we got the answer that the p-value is 0.467>0.05, so we can not reject the null hypothesis. As a result, the pre-1945 and post-1945 means are equal to each other."
      ],
      "metadata": {
        "id": "XklPG21EJVDg"
      },
      "id": "XklPG21EJVDg"
    },
    {
      "cell_type": "code",
      "source": [
        "\"\"\"\n",
        "Question 2\n",
        "\n",
        "\"\"\"\n",
        "for i in range(len(data)):\n",
        "    reti = data.loc[:,i]\n",
        "    model = sm.OLS(reti.iloc[1:],sm.add_constant(np.array(reti.iloc[:-1])))\n",
        "    res = model.fit()"
      ],
      "metadata": {
        "id": "glOnY08EJd_b"
      },
      "id": "glOnY08EJd_b",
      "execution_count": null,
      "outputs": []
    },
    {
      "cell_type": "code",
      "source": [
        "\"\"\"\n",
        "Question3\n",
        "\n",
        "\"\"\"\n",
        "retvw = data.loc[:,'vwretd']\n",
        "\n",
        "for i in range(4,13):\n",
        "    reti = data.iloc[:,i]\n",
        "    model = sm.OLS(retvw[1:],sm.add_constant(np.array(reti[:-1])))\n",
        "    res1 = model.fit()\n",
        "    print(res1.summary())"
      ],
      "metadata": {
        "id": "qtQywSbHJeu_"
      },
      "id": "qtQywSbHJeu_",
      "execution_count": null,
      "outputs": []
    },
    {
      "cell_type": "code",
      "execution_count": 11,
      "id": "4087870e",
      "metadata": {
        "id": "4087870e"
      },
      "outputs": [],
      "source": [
        "np.random.seed(5435576)\n",
        "# seed here is used to fix a state for generating random number \n",
        "T=1000\n",
        "Sims=100\n",
        "wnoise = np.random.randn(T,Sims)"
      ]
    },
    {
      "cell_type": "code",
      "execution_count": 14,
      "id": "a196e169",
      "metadata": {
        "id": "a196e169"
      },
      "outputs": [],
      "source": [
        "columns1 = []\n",
        "for t in range(101):\n",
        "    columns1.append('Y'+ str(t))\n",
        "df = pd.DataFrame(columns = columns1)"
      ]
    },
    {
      "cell_type": "code",
      "execution_count": 22,
      "id": "7c4c5390",
      "metadata": {
        "colab": {
          "base_uri": "https://localhost:8080/"
        },
        "id": "7c4c5390",
        "outputId": "c2c05729-790b-458d-9a8f-d08d112175f3"
      },
      "outputs": [
        {
          "output_type": "stream",
          "name": "stdout",
          "text": [
            "      Y0        Y1        Y2        Y3        Y4        Y5        Y6  \\\n",
            "0    0.0 -0.710141  1.342527  1.020739  0.661182 -0.340871 -0.732553   \n",
            "1    0.0 -0.929738  0.228687 -0.792427  0.072453  0.667588 -2.676199   \n",
            "2    0.0 -0.570161 -1.009778 -0.299050  0.743488  0.885498 -0.184786   \n",
            "3    0.0 -0.050477 -1.180335 -1.946705 -1.269634  1.144950 -2.214156   \n",
            "4    0.0  0.364587 -0.288691 -0.855670  0.420142 -0.871091 -0.593641   \n",
            "..   ...       ...       ...       ...       ...       ...       ...   \n",
            "995  0.0  0.760360  0.403664 -0.441535  0.329277  0.894715 -0.173458   \n",
            "996  0.0  1.306522 -0.747109  0.105148  1.450083 -2.383460 -2.676524   \n",
            "997  0.0  0.865461 -0.565982 -0.358195  0.452459  1.264206 -0.984794   \n",
            "998  0.0 -0.249324 -0.020104  2.130457 -0.747608  0.767670  1.388645   \n",
            "999  0.0  1.501999  1.494001  2.299262  0.552716 -0.946621 -0.943719   \n",
            "\n",
            "           Y7        Y8        Y9  ...       Y91       Y92       Y93  \\\n",
            "0   -0.945531 -0.282657 -0.874434  ... -0.042605  1.651707  0.553760   \n",
            "1    0.076154 -1.158138 -0.252427  ...  0.097131  2.437896  1.366038   \n",
            "2    1.043454 -0.728368 -1.348047  ...  1.159559  0.490495  1.171215   \n",
            "3    0.603556 -0.204349 -0.325044  ...  1.641816 -1.343250  0.569339   \n",
            "4   -1.724933 -0.644582  0.548616  ... -0.140834 -0.126132 -0.224791   \n",
            "..        ...       ...       ...  ...       ...       ...       ...   \n",
            "995 -0.082143  0.009704  1.427999  ... -2.505245  0.621064 -0.866488   \n",
            "996  0.163968  0.034696  1.118957  ... -1.341021  0.491630 -0.591924   \n",
            "997  0.254573 -0.323948 -1.785457  ...  1.035316  1.106929 -0.292827   \n",
            "998  0.207814 -1.787916  0.847898  ...  0.082593  0.091933 -1.103766   \n",
            "999 -2.148677 -2.119424 -0.673282  ... -0.434349 -0.368151  1.191868   \n",
            "\n",
            "          Y94       Y95       Y96       Y97       Y98       Y99      Y100  \n",
            "0    0.397974 -0.170872  0.521214  0.057450 -0.024301  0.871355 -0.457656  \n",
            "1   -0.874900  0.961262 -0.395181  0.574654  0.616350  0.620706 -0.332227  \n",
            "2   -0.156867  0.623270  0.792078 -0.198801  1.129953  1.733074  0.612608  \n",
            "3   -0.575733 -0.524581  0.746519 -1.021474  0.435106  1.461314  0.299154  \n",
            "4   -0.674940 -1.743433 -2.067205  0.375495  1.232315 -0.259864 -0.682178  \n",
            "..        ...       ...       ...       ...       ...       ...       ...  \n",
            "995 -0.618002  0.079110  0.576887 -0.912311 -0.502555 -0.298573  1.219921  \n",
            "996 -0.559456 -1.591791  0.340115  0.525743  0.180177  2.486209  1.497909  \n",
            "997  0.529957  0.809898 -0.369836 -0.406947  1.321253 -1.626511  0.474970  \n",
            "998 -1.273329 -1.078128 -1.073134 -0.933439  0.988209 -2.240285 -0.941803  \n",
            "999  0.000884  0.143573  1.552618  1.908196 -0.449806 -1.411638 -0.177909  \n",
            "\n",
            "[1000 rows x 101 columns]\n"
          ]
        }
      ],
      "source": [
        "for n in range(1000):\n",
        "    index1 = [0]\n",
        "    for t in range(100):\n",
        "        index1.append(0.1*index1[t]+wnoise[n][t])\n",
        "    df.loc[n] = index1\n",
        "print(df)"
      ]
    },
    {
      "cell_type": "code",
      "execution_count": 23,
      "id": "d5a99608",
      "metadata": {
        "colab": {
          "base_uri": "https://localhost:8080/"
        },
        "id": "d5a99608",
        "outputId": "95c7d674-82f8-4b4c-f092-2de0fcee1830"
      },
      "outputs": [
        {
          "output_type": "execute_result",
          "data": {
            "text/plain": [
              "0     -0.340871\n",
              "1      0.667588\n",
              "2      0.885498\n",
              "3      1.144950\n",
              "4     -0.871091\n",
              "         ...   \n",
              "995    0.894715\n",
              "996   -2.383460\n",
              "997    1.264206\n",
              "998    0.767670\n",
              "999   -0.946621\n",
              "Name: Y5, Length: 1000, dtype: float64"
            ]
          },
          "metadata": {},
          "execution_count": 23
        }
      ],
      "source": [
        "df.iloc[:, 5]"
      ]
    },
    {
      "cell_type": "code",
      "execution_count": 24,
      "id": "75888dea",
      "metadata": {
        "colab": {
          "base_uri": "https://localhost:8080/"
        },
        "id": "75888dea",
        "outputId": "2b44ffd1-4fb1-4dbe-e95a-e48d31e81b40"
      },
      "outputs": [
        {
          "output_type": "execute_result",
          "data": {
            "text/plain": [
              "1000"
            ]
          },
          "metadata": {},
          "execution_count": 24
        }
      ],
      "source": [
        "df.shape[0]"
      ]
    },
    {
      "cell_type": "code",
      "execution_count": 25,
      "id": "809bf5f1",
      "metadata": {
        "colab": {
          "base_uri": "https://localhost:8080/"
        },
        "id": "809bf5f1",
        "outputId": "2c2c528b-1eb6-4a39-f5b4-b68cfc6fd9d9"
      },
      "outputs": [
        {
          "output_type": "execute_result",
          "data": {
            "text/plain": [
              "Y0      0.000000\n",
              "Y1     -0.022838\n",
              "Y2      0.094888\n",
              "Y3     -0.005468\n",
              "Y4      0.002637\n",
              "          ...   \n",
              "Y96     0.021495\n",
              "Y97    -0.015979\n",
              "Y98     0.009311\n",
              "Y99    -0.016120\n",
              "Y100   -0.001351\n",
              "Length: 101, dtype: float64"
            ]
          },
          "metadata": {},
          "execution_count": 25
        }
      ],
      "source": [
        "df.shape[1]\n",
        "df.mean()"
      ]
    },
    {
      "cell_type": "code",
      "execution_count": 26,
      "id": "7c9efdef",
      "metadata": {
        "scrolled": true,
        "colab": {
          "base_uri": "https://localhost:8080/",
          "height": 287
        },
        "id": "7c9efdef",
        "outputId": "acf48c06-36fc-462a-fbad-95742d32b88c"
      },
      "outputs": [
        {
          "output_type": "execute_result",
          "data": {
            "text/plain": [
              "[<matplotlib.lines.Line2D at 0x7f64821408d0>]"
            ]
          },
          "metadata": {},
          "execution_count": 26
        },
        {
          "output_type": "display_data",
          "data": {
            "text/plain": [
              "<Figure size 432x288 with 1 Axes>"
            ],
            "image/png": "[encoded data removed]"
          },
          "metadata": {
            "needs_background": "light"
          }
        }
      ],
      "source": [
        "means_h = df.mean(axis=1)\n",
        "plt.ylim(-1, 1)\n",
        "plt.plot(means_h)"
      ]
    },
    {
      "cell_type": "code",
      "execution_count": 27,
      "id": "dc4e549e",
      "metadata": {
        "colab": {
          "base_uri": "https://localhost:8080/",
          "height": 287
        },
        "id": "dc4e549e",
        "outputId": "d24dee1a-69ef-43e9-a4c3-2b58fa73460a"
      },
      "outputs": [
        {
          "output_type": "execute_result",
          "data": {
            "text/plain": [
              "[<matplotlib.lines.Line2D at 0x7f64822844d0>]"
            ]
          },
          "metadata": {},
          "execution_count": 27
        },
        {
          "output_type": "display_data",
          "data": {
            "text/plain": [
              "<Figure size 432x288 with 1 Axes>"
            ],
            "image/png": "[encoded data removed]"
          },
          "metadata": {
            "needs_background": "light"
          }
        }
      ],
      "source": [
        "means_i = df.mean(axis=0)\n",
        "x_major_locator = plt.MultipleLocator(10)\n",
        "ax = plt.gca()\n",
        "ax.xaxis.set_major_locator(x_major_locator)\n",
        "plt.ylim(-1, 1)\n",
        "plt.plot(means_i)"
      ]
    },
    {
      "cell_type": "code",
      "execution_count": null,
      "id": "93366e06",
      "metadata": {
        "id": "93366e06"
      },
      "outputs": [],
      "source": []
    }
  ],
  "metadata": {
    "kernelspec": {
      "display_name": "Python 3 (ipykernel)",
      "language": "python",
      "name": "python3"
    },
    "language_info": {
      "codemirror_mode": {
        "name": "ipython",
        "version": 3
      },
      "file_extension": ".py",
      "mimetype": "text/x-python",
      "name": "python",
      "nbconvert_exporter": "python",
      "pygments_lexer": "ipython3",
      "version": "3.9.12"
    },
    "colab": {
      "provenance": [],
      "collapsed_sections": [],
      "include_colab_link": true
    }
  },
  "nbformat": 4,
  "nbformat_minor": 5
}